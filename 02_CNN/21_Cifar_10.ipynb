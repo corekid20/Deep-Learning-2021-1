{
  "nbformat": 4,
  "nbformat_minor": 0,
  "metadata": {
    "colab": {
      "name": "21_Cifar-10.ipynb",
      "provenance": [],
      "collapsed_sections": []
    },
    "kernelspec": {
      "name": "python3",
      "display_name": "Python 3"
    },
    "language_info": {
      "name": "python"
    }
  },
  "cells": [
    {
      "cell_type": "markdown",
      "metadata": {
        "id": "FHqQlcNuC6fE"
      },
      "source": [
        "# Cifar-10 이미지 분류"
      ]
    },
    {
      "cell_type": "code",
      "metadata": {
        "id": "2pgBS_ikCliE"
      },
      "source": [
        "import numpy as np \n",
        "import tensorflow as tf\n",
        "seed = 2021\n",
        "np.random.seed(seed)\n",
        "tf.random.set_seed(seed)"
      ],
      "execution_count": null,
      "outputs": []
    },
    {
      "cell_type": "markdown",
      "metadata": {
        "id": "f1RSqaNSDGER"
      },
      "source": [
        "- 상수 설정"
      ]
    },
    {
      "cell_type": "code",
      "metadata": {
        "id": "n5A5UY1qC67e"
      },
      "source": [
        "\n",
        "BATCH_SIZE = 32\n",
        "NUM_CLASSES = 10\n",
        "EPOCHS = 100\n",
        "DATA_AUGMENTATION = True\n",
        "NUM_PREDICTIONS = 20\n",
        "MODEL_PATH = 'model/best_cifar-10.h5'"
      ],
      "execution_count": null,
      "outputs": []
    },
    {
      "cell_type": "markdown",
      "metadata": {
        "id": "Kw3zaDKKDIEI"
      },
      "source": [
        "## 데이터 전처리"
      ]
    },
    {
      "cell_type": "code",
      "metadata": {
        "id": "EerKh4ANDJae"
      },
      "source": [
        "from tensorflow.keras.datasets import cifar10\n",
        "(X_train, y_train), (X_test, y_test) = cifar10.load_data()"
      ],
      "execution_count": null,
      "outputs": []
    },
    {
      "cell_type": "code",
      "metadata": {
        "id": "QTSLbcunDLOI"
      },
      "source": [
        "X_train.shape, X_test.shape"
      ],
      "execution_count": null,
      "outputs": []
    },
    {
      "cell_type": "code",
      "metadata": {
        "id": "E2ZJcwhUDMLY"
      },
      "source": [
        "import matplotlib.pyplot as plt\n",
        "%matplotlib inline\n",
        "\n",
        "plt.subplot(141)\n",
        "plt.imshow(X_train[0], interpolation='bicubic')\n",
        "plt.subplot(142)\n",
        "plt.imshow(X_train[4], interpolation='bicubic')\n",
        "plt.subplot(143)\n",
        "plt.imshow(X_train[8], interpolation='bicubic')\n",
        "plt.subplot(144)\n",
        "plt.imshow(X_train[12], interpolation='bicubic')\n",
        "plt.show()"
      ],
      "execution_count": null,
      "outputs": []
    },
    {
      "cell_type": "code",
      "metadata": {
        "id": "4ur-PAf7DNfZ"
      },
      "source": [
        "\n",
        "class_names = ['airplane', 'automobile', 'bird', 'cat', 'deer',\n",
        "               'dog', 'frog', 'horse', 'ship', 'truck']\n",
        "class_names[y_train[0][0]], class_names[y_train[4][0]], \\\n",
        "    class_names[y_train[8][0]], class_names[y_train[12][0]]"
      ],
      "execution_count": null,
      "outputs": []
    },
    {
      "cell_type": "code",
      "metadata": {
        "id": "5GzAaC2wDOXp"
      },
      "source": [
        "# 0~1 사이로 정규화\n",
        "X_train = X_train / 255.0\n",
        "X_test = X_test / 255.0"
      ],
      "execution_count": null,
      "outputs": []
    },
    {
      "cell_type": "code",
      "metadata": {
        "id": "M13bIDvwDPNx"
      },
      "source": [
        "# One-hot encoding\n",
        "from tensorflow.keras.utils import to_categorical\n",
        "Y_train = to_categorical(y_train)\n",
        "Y_test = to_categorical(y_test)\n",
        "Y_train.shape, Y_test.shape"
      ],
      "execution_count": null,
      "outputs": []
    },
    {
      "cell_type": "markdown",
      "metadata": {
        "id": "Box_FHPKDQLJ"
      },
      "source": [
        "## 모델 정의/설정/학습/평가"
      ]
    },
    {
      "cell_type": "code",
      "metadata": {
        "id": "XL_Bp9i-DRDL"
      },
      "source": [
        "from tensorflow.keras.models import Sequential, load_model\n",
        "from tensorflow.keras.layers import Dense, Conv2D, MaxPooling2D\n",
        "from tensorflow.keras.layers import Dropout, Flatten\n",
        "from tensorflow.keras.callbacks import ModelCheckpoint, EarlyStopping"
      ],
      "execution_count": null,
      "outputs": []
    },
    {
      "cell_type": "code",
      "metadata": {
        "id": "LITUFFxBDSGJ"
      },
      "source": [
        "model = Sequential([ \n",
        "    Conv2D(32, (3,3), padding='same', input_shape=(32,32,3), activation='relu'),\n",
        "    Conv2D(32, (3,3), activation='relu'),\n",
        "    MaxPooling2D(),\n",
        "    Dropout(0.25),\n",
        "\n",
        "    Conv2D(64, (3,3), padding='same', activation='relu'),\n",
        "    Conv2D(64, (3,3), activation='relu'),\n",
        "    MaxPooling2D(),\n",
        "    Dropout(0.25), \n",
        "\n",
        "    Flatten(),\n",
        "    Dense(512, activation='relu'),\n",
        "    Dropout(0.5),\n",
        "    Dense(NUM_CLASSES, activation='softmax')        \n",
        "])\n",
        "model.summary()"
      ],
      "execution_count": null,
      "outputs": []
    },
    {
      "cell_type": "code",
      "metadata": {
        "id": "UOnnua06DTMo"
      },
      "source": [
        "from tensorflow.keras.optimizers import RMSprop\n",
        "opt = RMSprop(learning_rate=0.0001, decay=1e-6)\n",
        "\n",
        "model.compile(\n",
        "    optimizer=opt,\n",
        "    loss='categorical_crossentropy',\n",
        "    metrics=['accuracy']\n",
        ")"
      ],
      "execution_count": null,
      "outputs": []
    },
    {
      "cell_type": "code",
      "metadata": {
        "id": "5HIZsLimDemo"
      },
      "source": [
        "import os\n",
        "if not os.path.exists('model'):\n",
        "    os.mkdir('model')\n",
        "checkpointer = ModelCheckpoint(\n",
        "    MODEL_PATH, verbose=1, save_best_only=True\n",
        ")\n",
        "early_stopping = EarlyStopping(patience=10)"
      ],
      "execution_count": null,
      "outputs": []
    },
    {
      "cell_type": "code",
      "metadata": {
        "id": "BB6wJbhVDfmR"
      },
      "source": [
        "history = model.fit(\n",
        "    X_train, Y_train, validation_split=0.2,\n",
        "    epochs=EPOCHS,\n",
        "    batch_size=BATCH_SIZE,\n",
        "    shuffle=True,\n",
        "    callbacks=[checkpointer, early_stopping]\n",
        ")"
      ],
      "execution_count": null,
      "outputs": []
    },
    {
      "cell_type": "code",
      "metadata": {
        "id": "NX9NdvztDgsx"
      },
      "source": [
        "best_model = load_model(MODEL_PATH)\n",
        "best_model.evaluate(X_test, Y_test)"
      ],
      "execution_count": null,
      "outputs": []
    }
  ]
}