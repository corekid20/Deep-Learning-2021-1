{
  "nbformat": 4,
  "nbformat_minor": 0,
  "metadata": {
    "colab": {
      "name": "32_Cifar_100_v2.ipynb",
      "provenance": [],
      "collapsed_sections": []
    },
    "kernelspec": {
      "name": "python3",
      "display_name": "Python 3"
    },
    "language_info": {
      "name": "python"
    }
  },
  "cells": [
    {
      "cell_type": "code",
      "metadata": {
        "id": "Dh8IRSXuEeTK"
      },
      "source": [
        ""
      ],
      "execution_count": null,
      "outputs": []
    },
    {
      "cell_type": "markdown",
      "metadata": {
        "id": "zSAG-ZNnEg6y"
      },
      "source": [
        "# Cifar-100 이미지 분류 - ver.2\n",
        "- Cifar-100용 별도의 모델\n",
        "- 32/64/128 Conv2D node 수\n",
        "- Adam() optimizer 사용"
      ]
    },
    {
      "cell_type": "code",
      "metadata": {
        "id": "va5uPYRZEjq1"
      },
      "source": [
        "import numpy as np \n",
        "import tensorflow as tf\n",
        "seed = 2021\n",
        "np.random.seed(seed)\n",
        "tf.random.set_seed(seed)"
      ],
      "execution_count": null,
      "outputs": []
    },
    {
      "cell_type": "markdown",
      "metadata": {
        "id": "gxxMgPtfEk_4"
      },
      "source": [
        "- 상수 설정"
      ]
    },
    {
      "cell_type": "code",
      "metadata": {
        "id": "dmrep-6GEltG"
      },
      "source": [
        "BATCH_SIZE = 32\n",
        "NUM_CLASSES = 100\n",
        "EPOCHS = 100\n",
        "MODEL_PATH = 'model/best_cifar-100.h5'"
      ],
      "execution_count": null,
      "outputs": []
    },
    {
      "cell_type": "code",
      "metadata": {
        "id": "7q6dh3CyEmuZ"
      },
      "source": [
        "CIFAR100_LABELS = [\n",
        "    'apple', 'aquarium_fish', 'baby', 'bear', 'beaver', 'bed', 'bee', 'beetle', \n",
        "    'bicycle', 'bottle', 'bowl', 'boy', 'bridge', 'bus', 'butterfly', 'camel', \n",
        "    'can', 'castle', 'caterpillar', 'cattle', 'chair', 'chimpanzee', 'clock', \n",
        "    'cloud', 'cockroach', 'couch', 'crab', 'crocodile', 'cup', 'dinosaur', \n",
        "    'dolphin', 'elephant', 'flatfish', 'forest', 'fox', 'girl', 'hamster', \n",
        "    'house', 'kangaroo', 'keyboard', 'lamp', 'lawn_mower', 'leopard', 'lion',\n",
        "    'lizard', 'lobster', 'man', 'maple_tree', 'motorcycle', 'mountain', 'mouse',\n",
        "    'mushroom', 'oak_tree', 'orange', 'orchid', 'otter', 'palm_tree', 'pear',\n",
        "    'pickup_truck', 'pine_tree', 'plain', 'plate', 'poppy', 'porcupine',\n",
        "    'possum', 'rabbit', 'raccoon', 'ray', 'road', 'rocket', 'rose',\n",
        "    'sea', 'seal', 'shark', 'shrew', 'skunk', 'skyscraper', 'snail', 'snake',\n",
        "    'spider', 'squirrel', 'streetcar', 'sunflower', 'sweet_pepper', 'table',\n",
        "    'tank', 'telephone', 'television', 'tiger', 'tractor', 'train', 'trout',\n",
        "    'tulip', 'turtle', 'wardrobe', 'whale', 'willow_tree', 'wolf', 'woman',\n",
        "    'worm'\n",
        "]"
      ],
      "execution_count": null,
      "outputs": []
    },
    {
      "cell_type": "markdown",
      "metadata": {
        "id": "FISkqEdQEn5Q"
      },
      "source": [
        "## 데이터 전처리"
      ]
    },
    {
      "cell_type": "code",
      "metadata": {
        "id": "bthytABXEoqN"
      },
      "source": [
        "from tensorflow.keras.datasets import cifar100\n",
        "(X_train, y_train), (X_test, y_test) = cifar100.load_data()"
      ],
      "execution_count": null,
      "outputs": []
    },
    {
      "cell_type": "code",
      "metadata": {
        "id": "EYrcuFRBEp4Q"
      },
      "source": [
        "X_train.shape, X_test.shape"
      ],
      "execution_count": null,
      "outputs": []
    },
    {
      "cell_type": "code",
      "metadata": {
        "id": "8yMbC3sVEq4g"
      },
      "source": [
        "import matplotlib.pyplot as plt\n",
        "%matplotlib inline\n",
        "\n",
        "plt.subplot(141)\n",
        "plt.imshow(X_train[0], interpolation='bicubic')\n",
        "plt.subplot(142)\n",
        "plt.imshow(X_train[4], interpolation='bicubic')\n",
        "plt.subplot(143)\n",
        "plt.imshow(X_train[8], interpolation='bicubic')\n",
        "plt.subplot(144)\n",
        "plt.imshow(X_train[12], interpolation='bicubic')\n",
        "plt.show()"
      ],
      "execution_count": null,
      "outputs": []
    },
    {
      "cell_type": "code",
      "metadata": {
        "id": "1C50tkmlEr_o"
      },
      "source": [
        "CIFAR100_LABELS[y_train[0][0]], CIFAR100_LABELS[y_train[4][0]], \\\n",
        "    CIFAR100_LABELS[y_train[8][0]], CIFAR100_LABELS[y_train[12][0]]"
      ],
      "execution_count": null,
      "outputs": []
    },
    {
      "cell_type": "code",
      "metadata": {
        "id": "WQSdnl9ZEwLY"
      },
      "source": [
        "# 0~1 사이로 정규화\n",
        "X_train = X_train / 255.0\n",
        "X_test = X_test / 255.0"
      ],
      "execution_count": null,
      "outputs": []
    },
    {
      "cell_type": "code",
      "metadata": {
        "id": "tJn_VDwCExAB"
      },
      "source": [
        "# One-hot encoding\n",
        "from tensorflow.keras.utils import to_categorical\n",
        "Y_train = to_categorical(y_train)\n",
        "Y_test = to_categorical(y_test)\n",
        "Y_train.shape, Y_test.shape"
      ],
      "execution_count": null,
      "outputs": []
    },
    {
      "cell_type": "markdown",
      "metadata": {
        "id": "EcB_XQVNEyy4"
      },
      "source": [
        "## 모델 정의/설정/학습/평가"
      ]
    },
    {
      "cell_type": "code",
      "metadata": {
        "id": "2JOlaGmJExYY"
      },
      "source": [
        "from tensorflow.keras.models import Sequential, load_model\n",
        "from tensorflow.keras.layers import Dense, Conv2D, MaxPooling2D\n",
        "from tensorflow.keras.layers import Dropout, Flatten, Activation\n",
        "from tensorflow.keras.callbacks import ModelCheckpoint, EarlyStopping"
      ],
      "execution_count": null,
      "outputs": []
    },
    {
      "cell_type": "code",
      "metadata": {
        "id": "xyYF74FvE2u4"
      },
      "source": [
        "model = Sequential([ \n",
        "    Conv2D(32, (3,3), padding='same', input_shape=(32,32,3)),\n",
        "    Activation('relu'),\n",
        "    MaxPooling2D(),\n",
        "    Activation('relu'),\n",
        "\n",
        "    Conv2D(64, (3,3)),\n",
        "    Activation('relu'),\n",
        "    MaxPooling2D(),\n",
        "    Activation('relu'),\n",
        "    Dropout(0.1),\n",
        "\n",
        "    Conv2D(128, (3,3), padding='same'),\n",
        "    Activation('relu'),\n",
        "    MaxPooling2D(),\n",
        "    Activation('relu'),\n",
        "    Dropout(0.25), \n",
        "\n",
        "    Flatten(),\n",
        "    Dense(512),\n",
        "    Activation('relu'),\n",
        "    Dropout(0.5),\n",
        "    Dense(NUM_CLASSES, activation='softmax')        \n",
        "])\n",
        "model.summary()"
      ],
      "execution_count": null,
      "outputs": []
    },
    {
      "cell_type": "code",
      "metadata": {
        "id": "GwZz66JqE37Y"
      },
      "source": [
        "from tensorflow.keras.optimizers import Adam\n",
        "opt = Adam(learning_rate=0.0001)\n",
        "\n",
        "model.compile(\n",
        "    optimizer=opt,\n",
        "    loss='categorical_crossentropy',\n",
        "    metrics=['accuracy']\n",
        ")"
      ],
      "execution_count": null,
      "outputs": []
    },
    {
      "cell_type": "code",
      "metadata": {
        "id": "MpZP_vvjE5F4"
      },
      "source": [
        "\n",
        "import os\n",
        "if not os.path.exists('model'):\n",
        "    os.mkdir('model')\n",
        "checkpointer = ModelCheckpoint(\n",
        "    MODEL_PATH, verbose=1, save_best_only=True\n",
        ")\n",
        "early_stopping = EarlyStopping(patience=10)"
      ],
      "execution_count": null,
      "outputs": []
    },
    {
      "cell_type": "code",
      "metadata": {
        "id": "DLgIvuiaE6Zo"
      },
      "source": [
        "history = model.fit(\n",
        "    X_train, Y_train, validation_split=0.2,\n",
        "    epochs=EPOCHS,\n",
        "    batch_size=BATCH_SIZE,\n",
        "    callbacks=[checkpointer, early_stopping]\n",
        ")"
      ],
      "execution_count": null,
      "outputs": []
    },
    {
      "cell_type": "code",
      "metadata": {
        "id": "TK3zK5kTE7LI"
      },
      "source": [
        "\n",
        "best_model = load_model(MODEL_PATH)\n",
        "best_model.evaluate(X_test, Y_test)"
      ],
      "execution_count": null,
      "outputs": []
    }
  ]
}