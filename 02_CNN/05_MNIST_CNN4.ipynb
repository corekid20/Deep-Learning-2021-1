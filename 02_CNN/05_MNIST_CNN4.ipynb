{
  "nbformat": 4,
  "nbformat_minor": 0,
  "metadata": {
    "colab": {
      "name": "05_MNIST_CNN4.ipynb",
      "provenance": [],
      "collapsed_sections": []
    },
    "kernelspec": {
      "name": "python3",
      "display_name": "Python 3"
    },
    "language_info": {
      "name": "python"
    }
  },
  "cells": [
    {
      "cell_type": "markdown",
      "metadata": {
        "id": "nOTzun9VBjzT"
      },
      "source": [
        "# MNIST 손글씨 - CNN 4\n",
        "- 2 Conv2D layers with padding\n",
        "- 1 MaxPooling2D layer\n",
        "- 1 Dropout(0.25) layer\n",
        "- 1 Fully Connected Network(512) layer\n",
        "- 1 Dropout(0.5) layer\n",
        "- 1 Output layer"
      ]
    },
    {
      "cell_type": "code",
      "metadata": {
        "id": "9yTGCb0vBKNa"
      },
      "source": [
        "import numpy as np \n",
        "import tensorflow as tf\n",
        "seed = 2021\n",
        "np.random.seed(seed)\n",
        "tf.random.set_seed(seed)"
      ],
      "execution_count": 1,
      "outputs": []
    },
    {
      "cell_type": "markdown",
      "metadata": {
        "id": "WN_WJdcpBrCJ"
      },
      "source": [
        "## 데이터 전처리"
      ]
    },
    {
      "cell_type": "code",
      "metadata": {
        "id": "s5JrLfW_Bp51"
      },
      "source": [
        "from tensorflow.keras.datasets import mnist\n",
        "(X_train, y_train), (X_test, y_test) = mnist.load_data()"
      ],
      "execution_count": null,
      "outputs": []
    },
    {
      "cell_type": "code",
      "metadata": {
        "id": "AEZOAYJSByob"
      },
      "source": [
        "# 0 ~ 1 사이의 값으로 정규화\n",
        "X_train = X_train / 255.0\n",
        "X_test = X_test / 255.0"
      ],
      "execution_count": null,
      "outputs": []
    },
    {
      "cell_type": "code",
      "metadata": {
        "id": "IWTEB5_nBy_5"
      },
      "source": [
        "# 3차원 데이터를 4차원으로 (데이터는 2차원을 3차원으로)\n",
        "X_train = X_train.reshape(-1, 28, 28, 1)\n",
        "X_test = X_test.reshape(-1, 28, 28, 1)\n",
        "X_train.shape, X_test.shape"
      ],
      "execution_count": null,
      "outputs": []
    },
    {
      "cell_type": "code",
      "metadata": {
        "id": "92JYvpVKBz-B"
      },
      "source": [
        "# One hot encoding\n",
        "from tensorflow.keras.utils import to_categorical\n",
        "Y_train = to_categorical(y_train)\n",
        "Y_test = to_categorical(y_test)"
      ],
      "execution_count": null,
      "outputs": []
    },
    {
      "cell_type": "markdown",
      "metadata": {
        "id": "pblCpNJ5B2Yo"
      },
      "source": [
        "## 모델 정의, 설정, 학습, 평가"
      ]
    },
    {
      "cell_type": "code",
      "metadata": {
        "id": "nd-PN-ZpB07J"
      },
      "source": [
        "\n",
        "from tensorflow.keras.models import Sequential\n",
        "from tensorflow.keras.layers import Dense, Conv2D, Flatten\n",
        "from tensorflow.keras.layers import MaxPooling2D, Dropout\n",
        "from tensorflow.keras.callbacks import ModelCheckpoint, EarlyStopping"
      ],
      "execution_count": null,
      "outputs": []
    },
    {
      "cell_type": "code",
      "metadata": {
        "id": "I_EOkbDkB6H5"
      },
      "source": [
        "model = Sequential([\n",
        "    Conv2D(32, (3,3), padding='same', input_shape=(28,28,1), activation='relu'),\n",
        "    Conv2D(64, (3,3), padding='same', activation='relu'),\n",
        "    MaxPooling2D(pool_size=2),\n",
        "    Dropout(0.25),\n",
        "    Flatten(),                              # n차원을 1차원으로 변환\n",
        "    Dense(512, activation='relu'),\n",
        "    Dropout(0.5),\n",
        "    Dense(10, activation='softmax')\n",
        "])\n",
        "model.summary()"
      ],
      "execution_count": null,
      "outputs": []
    },
    {
      "cell_type": "code",
      "metadata": {
        "id": "7W0-ut8AB7MR"
      },
      "source": [
        "model.compile(\n",
        "    optimizer='adam', loss='categorical_crossentropy', metrics=['accuracy']\n",
        ")"
      ],
      "execution_count": null,
      "outputs": []
    },
    {
      "cell_type": "code",
      "metadata": {
        "id": "i6VY92v_B8cR"
      },
      "source": [
        "# 모델 최적화를 위한 설정\n",
        "modelpath = 'best_mnist_cnn_4.h5'\n",
        "checkpoint = ModelCheckpoint(modelpath, verbose=1, save_best_only=True)\n",
        "early_stopping = EarlyStopping(patience=5)"
      ],
      "execution_count": null,
      "outputs": []
    },
    {
      "cell_type": "code",
      "metadata": {
        "id": "8w-iCDQZB8m5"
      },
      "source": [
        "# 모델 학습\n",
        "history = model.fit(\n",
        "    X_train, Y_train, validation_split=0.2,\n",
        "    epochs=50, batch_size=200, verbose=0,\n",
        "    callbacks=[checkpoint, early_stopping]\n",
        ")"
      ],
      "execution_count": null,
      "outputs": []
    },
    {
      "cell_type": "code",
      "metadata": {
        "id": "sZYfLUylB9cJ"
      },
      "source": [
        "from tensorflow.keras.models import load_model\n",
        "best_model = load_model(modelpath)\n",
        "best_model.evaluate(X_test, Y_test)"
      ],
      "execution_count": null,
      "outputs": []
    },
    {
      "cell_type": "markdown",
      "metadata": {
        "id": "Aqa_Xp0BB_2J"
      },
      "source": [
        "## 훈련과정 시각화"
      ]
    },
    {
      "cell_type": "code",
      "metadata": {
        "id": "nhc5RbUOB_DB"
      },
      "source": [
        "y_vloss = history.history['val_loss']\n",
        "y_acc = history.history['accuracy']\n",
        "x_len = np.arange(len(y_acc))"
      ],
      "execution_count": null,
      "outputs": []
    },
    {
      "cell_type": "code",
      "metadata": {
        "id": "Nkco46GyCBPq"
      },
      "source": [
        "import matplotlib.pyplot as plt\n",
        "%matplotlib inline\n",
        "\n",
        "plt.figure(figsize=(12,8))\n",
        "plt.plot(x_len, y_acc, 'bo-', markersize=2, label='accuracy')\n",
        "plt.plot(x_len, y_vloss, 'ro-', markersize=2, label='val_loss')\n",
        "plt.legend()\n",
        "plt.show()"
      ],
      "execution_count": null,
      "outputs": []
    },
    {
      "cell_type": "code",
      "metadata": {
        "id": "lK7Q5n54D9ZG"
      },
      "source": [
        ""
      ],
      "execution_count": null,
      "outputs": []
    }
  ]
}