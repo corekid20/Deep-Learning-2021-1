{
 "cells": [
  {
   "cell_type": "markdown",
   "metadata": {},
   "source": [
    "# 주가 예측\r\n",
    "### 프로그램 설치\r\n",
    "- conda install pandas-datareader\r\n",
    "- conda install -c conda-forge pystan\r\n",
    "- conda install plotly\r\n",
    "- conda install -c conda-forge fbprophet\r\n",
    "- pip install yfinance"
   ]
  },
  {
   "cell_type": "code",
   "execution_count": 1,
   "metadata": {},
   "outputs": [],
   "source": [
    "import numpy as np \r\n",
    "import pandas as pd \r\n",
    "import matplotlib as mpl\r\n",
    "import matplotlib.pyplot as plt\r\n",
    "%matplotlib inline\r\n",
    "mpl.rcParams['axes.unicode_minus'] = False \r\n",
    "plt.rcParams[\"font.family\"] = 'Malgun Gothic'"
   ]
  },
  {
   "cell_type": "code",
   "execution_count": 2,
   "metadata": {},
   "outputs": [],
   "source": [
    "import warnings\r\n",
    "warnings.filterwarnings(\"ignore\")"
   ]
  },
  {
   "cell_type": "code",
   "execution_count": 3,
   "metadata": {},
   "outputs": [],
   "source": [
    "from datetime import datetime\r\n",
    "from fbprophet import Prophet\r\n",
    "import pandas_datareader as pdr\r\n",
    "import yfinance as yf"
   ]
  },
  {
   "cell_type": "markdown",
   "metadata": {},
   "source": [
    "## 주가 데이터 가져오기\r\n",
    "- Nasdaq 'QQQ'"
   ]
  },
  {
   "cell_type": "code",
   "execution_count": 4,
   "metadata": {},
   "outputs": [
    {
     "data": {
      "text/plain": [
       "\" start = datetime(2021, 1, 1)\\nend = datetime(2021, 6, 30)\\n# qqq = pdr.get_data_yahoo('QQQ', start=start, end=end)\\nqqq = pdr.DataReader('QQQ', data_source='yahoo', start=start, end=end)\\nqqq.head() \""
      ]
     },
     "execution_count": 4,
     "metadata": {},
     "output_type": "execute_result"
    }
   ],
   "source": [
    "\"\"\" start = datetime(2021, 1, 1)\r\n",
    "end = datetime(2021, 6, 30)\r\n",
    "# qqq = pdr.get_data_yahoo('QQQ', start=start, end=end)\r\n",
    "qqq = pdr.DataReader('QQQ', data_source='yahoo', start=start, end=end)\r\n",
    "qqq.head() \"\"\""
   ]
  },
  {
   "cell_type": "code",
   "execution_count": 5,
   "metadata": {},
   "outputs": [
    {
     "name": "stdout",
     "output_type": "stream",
     "text": [
      "[*********************100%***********************]  1 of 1 completed\n"
     ]
    },
    {
     "data": {
      "text/html": [
       "<div>\n",
       "<style scoped>\n",
       "    .dataframe tbody tr th:only-of-type {\n",
       "        vertical-align: middle;\n",
       "    }\n",
       "\n",
       "    .dataframe tbody tr th {\n",
       "        vertical-align: top;\n",
       "    }\n",
       "\n",
       "    .dataframe thead th {\n",
       "        text-align: right;\n",
       "    }\n",
       "</style>\n",
       "<table border=\"1\" class=\"dataframe\">\n",
       "  <thead>\n",
       "    <tr style=\"text-align: right;\">\n",
       "      <th></th>\n",
       "      <th>Open</th>\n",
       "      <th>High</th>\n",
       "      <th>Low</th>\n",
       "      <th>Close</th>\n",
       "      <th>Adj Close</th>\n",
       "      <th>Volume</th>\n",
       "    </tr>\n",
       "    <tr>\n",
       "      <th>Date</th>\n",
       "      <th></th>\n",
       "      <th></th>\n",
       "      <th></th>\n",
       "      <th></th>\n",
       "      <th></th>\n",
       "      <th></th>\n",
       "    </tr>\n",
       "  </thead>\n",
       "  <tbody>\n",
       "    <tr>\n",
       "      <th>2021-06-25</th>\n",
       "      <td>350.470001</td>\n",
       "      <td>350.720001</td>\n",
       "      <td>348.839996</td>\n",
       "      <td>349.459991</td>\n",
       "      <td>349.459991</td>\n",
       "      <td>28682800</td>\n",
       "    </tr>\n",
       "    <tr>\n",
       "      <th>2021-06-28</th>\n",
       "      <td>350.779999</td>\n",
       "      <td>353.850006</td>\n",
       "      <td>350.720001</td>\n",
       "      <td>353.709991</td>\n",
       "      <td>353.709991</td>\n",
       "      <td>39130300</td>\n",
       "    </tr>\n",
       "    <tr>\n",
       "      <th>2021-06-29</th>\n",
       "      <td>353.529999</td>\n",
       "      <td>355.019989</td>\n",
       "      <td>352.670013</td>\n",
       "      <td>354.989990</td>\n",
       "      <td>354.989990</td>\n",
       "      <td>29426000</td>\n",
       "    </tr>\n",
       "    <tr>\n",
       "      <th>2021-06-30</th>\n",
       "      <td>354.829987</td>\n",
       "      <td>355.230011</td>\n",
       "      <td>353.829987</td>\n",
       "      <td>354.429993</td>\n",
       "      <td>354.429993</td>\n",
       "      <td>32724000</td>\n",
       "    </tr>\n",
       "    <tr>\n",
       "      <th>2021-07-01</th>\n",
       "      <td>354.070007</td>\n",
       "      <td>355.089996</td>\n",
       "      <td>352.679993</td>\n",
       "      <td>354.570007</td>\n",
       "      <td>354.570007</td>\n",
       "      <td>29262900</td>\n",
       "    </tr>\n",
       "  </tbody>\n",
       "</table>\n",
       "</div>"
      ],
      "text/plain": [
       "                  Open        High         Low       Close   Adj Close  \\\n",
       "Date                                                                     \n",
       "2021-06-25  350.470001  350.720001  348.839996  349.459991  349.459991   \n",
       "2021-06-28  350.779999  353.850006  350.720001  353.709991  353.709991   \n",
       "2021-06-29  353.529999  355.019989  352.670013  354.989990  354.989990   \n",
       "2021-06-30  354.829987  355.230011  353.829987  354.429993  354.429993   \n",
       "2021-07-01  354.070007  355.089996  352.679993  354.570007  354.570007   \n",
       "\n",
       "              Volume  \n",
       "Date                  \n",
       "2021-06-25  28682800  \n",
       "2021-06-28  39130300  \n",
       "2021-06-29  29426000  \n",
       "2021-06-30  32724000  \n",
       "2021-07-01  29262900  "
      ]
     },
     "execution_count": 5,
     "metadata": {},
     "output_type": "execute_result"
    }
   ],
   "source": [
    "start = datetime(2021, 1, 1)\r\n",
    "end = datetime(2021, 7, 2)\r\n",
    "qqq = yf.download('QQQ', start=start, end=end)\r\n",
    "qqq.tail()\r\n"
   ]
  },
  {
   "cell_type": "markdown",
   "metadata": {},
   "source": [
    "- 삼성전자(005930)"
   ]
  },
  {
   "cell_type": "code",
   "execution_count": 6,
   "metadata": {},
   "outputs": [
    {
     "name": "stdout",
     "output_type": "stream",
     "text": [
      "[*********************100%***********************]  1 of 1 completed\n"
     ]
    },
    {
     "data": {
      "text/html": [
       "<div>\n",
       "<style scoped>\n",
       "    .dataframe tbody tr th:only-of-type {\n",
       "        vertical-align: middle;\n",
       "    }\n",
       "\n",
       "    .dataframe tbody tr th {\n",
       "        vertical-align: top;\n",
       "    }\n",
       "\n",
       "    .dataframe thead th {\n",
       "        text-align: right;\n",
       "    }\n",
       "</style>\n",
       "<table border=\"1\" class=\"dataframe\">\n",
       "  <thead>\n",
       "    <tr style=\"text-align: right;\">\n",
       "      <th></th>\n",
       "      <th>Open</th>\n",
       "      <th>High</th>\n",
       "      <th>Low</th>\n",
       "      <th>Close</th>\n",
       "      <th>Adj Close</th>\n",
       "      <th>Volume</th>\n",
       "    </tr>\n",
       "    <tr>\n",
       "      <th>Date</th>\n",
       "      <th></th>\n",
       "      <th></th>\n",
       "      <th></th>\n",
       "      <th></th>\n",
       "      <th></th>\n",
       "      <th></th>\n",
       "    </tr>\n",
       "  </thead>\n",
       "  <tbody>\n",
       "    <tr>\n",
       "      <th>2021-06-28</th>\n",
       "      <td>81700.0</td>\n",
       "      <td>82000.0</td>\n",
       "      <td>81600.0</td>\n",
       "      <td>81900.0</td>\n",
       "      <td>81900.0</td>\n",
       "      <td>11578529</td>\n",
       "    </tr>\n",
       "    <tr>\n",
       "      <th>2021-06-29</th>\n",
       "      <td>81900.0</td>\n",
       "      <td>82100.0</td>\n",
       "      <td>80800.0</td>\n",
       "      <td>81000.0</td>\n",
       "      <td>81000.0</td>\n",
       "      <td>15744317</td>\n",
       "    </tr>\n",
       "    <tr>\n",
       "      <th>2021-06-30</th>\n",
       "      <td>81100.0</td>\n",
       "      <td>81400.0</td>\n",
       "      <td>80700.0</td>\n",
       "      <td>80700.0</td>\n",
       "      <td>80700.0</td>\n",
       "      <td>13288643</td>\n",
       "    </tr>\n",
       "    <tr>\n",
       "      <th>2021-07-01</th>\n",
       "      <td>80500.0</td>\n",
       "      <td>80600.0</td>\n",
       "      <td>80000.0</td>\n",
       "      <td>80100.0</td>\n",
       "      <td>80100.0</td>\n",
       "      <td>13382882</td>\n",
       "    </tr>\n",
       "    <tr>\n",
       "      <th>2021-07-02</th>\n",
       "      <td>80000.0</td>\n",
       "      <td>80400.0</td>\n",
       "      <td>79900.0</td>\n",
       "      <td>80000.0</td>\n",
       "      <td>80000.0</td>\n",
       "      <td>8172007</td>\n",
       "    </tr>\n",
       "  </tbody>\n",
       "</table>\n",
       "</div>"
      ],
      "text/plain": [
       "               Open     High      Low    Close  Adj Close    Volume\n",
       "Date                                                               \n",
       "2021-06-28  81700.0  82000.0  81600.0  81900.0    81900.0  11578529\n",
       "2021-06-29  81900.0  82100.0  80800.0  81000.0    81000.0  15744317\n",
       "2021-06-30  81100.0  81400.0  80700.0  80700.0    80700.0  13288643\n",
       "2021-07-01  80500.0  80600.0  80000.0  80100.0    80100.0  13382882\n",
       "2021-07-02  80000.0  80400.0  79900.0  80000.0    80000.0   8172007"
      ]
     },
     "execution_count": 6,
     "metadata": {},
     "output_type": "execute_result"
    }
   ],
   "source": [
    "\r\n",
    "sse = yf.download('005930.KS', start=start)\r\n",
    "sse.tail()"
   ]
  },
  {
   "cell_type": "code",
   "execution_count": 7,
   "metadata": {},
   "outputs": [
    {
     "data": {
      "image/png": "[encoded data removed]",
      "text/plain": [
       "<Figure size 864x432 with 1 Axes>"
      ]
     },
     "metadata": {
      "needs_background": "light"
     },
     "output_type": "display_data"
    }
   ],
   "source": [
    "qqq.Close.plot(figsize=(12,6), grid=True)\r\n",
    "plt.show()"
   ]
  },
  {
   "cell_type": "markdown",
   "metadata": {},
   "source": [
    "## Prophet 사용"
   ]
  },
  {
   "cell_type": "code",
   "execution_count": 8,
   "metadata": {},
   "outputs": [
    {
     "name": "stdout",
     "output_type": "stream",
     "text": [
      "[*********************100%***********************]  1 of 1 completed\n"
     ]
    },
    {
     "data": {
      "text/html": [
       "<div>\n",
       "<style scoped>\n",
       "    .dataframe tbody tr th:only-of-type {\n",
       "        vertical-align: middle;\n",
       "    }\n",
       "\n",
       "    .dataframe tbody tr th {\n",
       "        vertical-align: top;\n",
       "    }\n",
       "\n",
       "    .dataframe thead th {\n",
       "        text-align: right;\n",
       "    }\n",
       "</style>\n",
       "<table border=\"1\" class=\"dataframe\">\n",
       "  <thead>\n",
       "    <tr style=\"text-align: right;\">\n",
       "      <th></th>\n",
       "      <th>Open</th>\n",
       "      <th>High</th>\n",
       "      <th>Low</th>\n",
       "      <th>Close</th>\n",
       "      <th>Adj Close</th>\n",
       "      <th>Volume</th>\n",
       "    </tr>\n",
       "    <tr>\n",
       "      <th>Date</th>\n",
       "      <th></th>\n",
       "      <th></th>\n",
       "      <th></th>\n",
       "      <th></th>\n",
       "      <th></th>\n",
       "      <th></th>\n",
       "    </tr>\n",
       "  </thead>\n",
       "  <tbody>\n",
       "    <tr>\n",
       "      <th>2021-06-24</th>\n",
       "      <td>349.730011</td>\n",
       "      <td>351.459991</td>\n",
       "      <td>349.170013</td>\n",
       "      <td>349.890015</td>\n",
       "      <td>349.890015</td>\n",
       "      <td>32581600</td>\n",
       "    </tr>\n",
       "    <tr>\n",
       "      <th>2021-06-25</th>\n",
       "      <td>350.470001</td>\n",
       "      <td>350.720001</td>\n",
       "      <td>348.839996</td>\n",
       "      <td>349.459991</td>\n",
       "      <td>349.459991</td>\n",
       "      <td>28682800</td>\n",
       "    </tr>\n",
       "    <tr>\n",
       "      <th>2021-06-28</th>\n",
       "      <td>350.779999</td>\n",
       "      <td>353.850006</td>\n",
       "      <td>350.720001</td>\n",
       "      <td>353.709991</td>\n",
       "      <td>353.709991</td>\n",
       "      <td>39130300</td>\n",
       "    </tr>\n",
       "    <tr>\n",
       "      <th>2021-06-29</th>\n",
       "      <td>353.529999</td>\n",
       "      <td>355.019989</td>\n",
       "      <td>352.670013</td>\n",
       "      <td>354.989990</td>\n",
       "      <td>354.989990</td>\n",
       "      <td>29426000</td>\n",
       "    </tr>\n",
       "    <tr>\n",
       "      <th>2021-06-30</th>\n",
       "      <td>354.829987</td>\n",
       "      <td>355.230011</td>\n",
       "      <td>353.829987</td>\n",
       "      <td>354.429993</td>\n",
       "      <td>354.429993</td>\n",
       "      <td>32724000</td>\n",
       "    </tr>\n",
       "  </tbody>\n",
       "</table>\n",
       "</div>"
      ],
      "text/plain": [
       "                  Open        High         Low       Close   Adj Close  \\\n",
       "Date                                                                     \n",
       "2021-06-24  349.730011  351.459991  349.170013  349.890015  349.890015   \n",
       "2021-06-25  350.470001  350.720001  348.839996  349.459991  349.459991   \n",
       "2021-06-28  350.779999  353.850006  350.720001  353.709991  353.709991   \n",
       "2021-06-29  353.529999  355.019989  352.670013  354.989990  354.989990   \n",
       "2021-06-30  354.829987  355.230011  353.829987  354.429993  354.429993   \n",
       "\n",
       "              Volume  \n",
       "Date                  \n",
       "2021-06-24  32581600  \n",
       "2021-06-25  28682800  \n",
       "2021-06-28  39130300  \n",
       "2021-06-29  29426000  \n",
       "2021-06-30  32724000  "
      ]
     },
     "execution_count": 8,
     "metadata": {},
     "output_type": "execute_result"
    }
   ],
   "source": [
    "start = datetime(2016,1,1)\r\n",
    "end = datetime(2021,7,1)\r\n",
    "qqq = yf.download('QQQ', start=start, end=end)\r\n",
    "qqq.tail()"
   ]
  },
  {
   "cell_type": "code",
   "execution_count": 9,
   "metadata": {},
   "outputs": [
    {
     "data": {
      "text/html": [
       "<div>\n",
       "<style scoped>\n",
       "    .dataframe tbody tr th:only-of-type {\n",
       "        vertical-align: middle;\n",
       "    }\n",
       "\n",
       "    .dataframe tbody tr th {\n",
       "        vertical-align: top;\n",
       "    }\n",
       "\n",
       "    .dataframe thead th {\n",
       "        text-align: right;\n",
       "    }\n",
       "</style>\n",
       "<table border=\"1\" class=\"dataframe\">\n",
       "  <thead>\n",
       "    <tr style=\"text-align: right;\">\n",
       "      <th></th>\n",
       "      <th>ds</th>\n",
       "      <th>y</th>\n",
       "    </tr>\n",
       "    <tr>\n",
       "      <th>Date</th>\n",
       "      <th></th>\n",
       "      <th></th>\n",
       "    </tr>\n",
       "  </thead>\n",
       "  <tbody>\n",
       "    <tr>\n",
       "      <th>2015-12-31</th>\n",
       "      <td>2015-12-31</td>\n",
       "      <td>111.860001</td>\n",
       "    </tr>\n",
       "    <tr>\n",
       "      <th>2016-01-04</th>\n",
       "      <td>2016-01-04</td>\n",
       "      <td>109.500000</td>\n",
       "    </tr>\n",
       "    <tr>\n",
       "      <th>2016-01-05</th>\n",
       "      <td>2016-01-05</td>\n",
       "      <td>109.309998</td>\n",
       "    </tr>\n",
       "    <tr>\n",
       "      <th>2016-01-06</th>\n",
       "      <td>2016-01-06</td>\n",
       "      <td>108.260002</td>\n",
       "    </tr>\n",
       "    <tr>\n",
       "      <th>2016-01-07</th>\n",
       "      <td>2016-01-07</td>\n",
       "      <td>104.870003</td>\n",
       "    </tr>\n",
       "  </tbody>\n",
       "</table>\n",
       "</div>"
      ],
      "text/plain": [
       "                   ds           y\n",
       "Date                             \n",
       "2015-12-31 2015-12-31  111.860001\n",
       "2016-01-04 2016-01-04  109.500000\n",
       "2016-01-05 2016-01-05  109.309998\n",
       "2016-01-06 2016-01-06  108.260002\n",
       "2016-01-07 2016-01-07  104.870003"
      ]
     },
     "execution_count": 9,
     "metadata": {},
     "output_type": "execute_result"
    }
   ],
   "source": [
    "\r\n",
    "df = pd.DataFrame({\r\n",
    "    'ds': qqq.index, 'y': qqq.Close\r\n",
    "})\r\n",
    "df.head()"
   ]
  },
  {
   "cell_type": "code",
   "execution_count": 10,
   "metadata": {},
   "outputs": [
    {
     "data": {
      "text/html": [
       "<div>\n",
       "<style scoped>\n",
       "    .dataframe tbody tr th:only-of-type {\n",
       "        vertical-align: middle;\n",
       "    }\n",
       "\n",
       "    .dataframe tbody tr th {\n",
       "        vertical-align: top;\n",
       "    }\n",
       "\n",
       "    .dataframe thead th {\n",
       "        text-align: right;\n",
       "    }\n",
       "</style>\n",
       "<table border=\"1\" class=\"dataframe\">\n",
       "  <thead>\n",
       "    <tr style=\"text-align: right;\">\n",
       "      <th></th>\n",
       "      <th>ds</th>\n",
       "      <th>y</th>\n",
       "    </tr>\n",
       "  </thead>\n",
       "  <tbody>\n",
       "    <tr>\n",
       "      <th>1379</th>\n",
       "      <td>2021-06-24</td>\n",
       "      <td>349.890015</td>\n",
       "    </tr>\n",
       "    <tr>\n",
       "      <th>1380</th>\n",
       "      <td>2021-06-25</td>\n",
       "      <td>349.459991</td>\n",
       "    </tr>\n",
       "    <tr>\n",
       "      <th>1381</th>\n",
       "      <td>2021-06-28</td>\n",
       "      <td>353.709991</td>\n",
       "    </tr>\n",
       "    <tr>\n",
       "      <th>1382</th>\n",
       "      <td>2021-06-29</td>\n",
       "      <td>354.989990</td>\n",
       "    </tr>\n",
       "    <tr>\n",
       "      <th>1383</th>\n",
       "      <td>2021-06-30</td>\n",
       "      <td>354.429993</td>\n",
       "    </tr>\n",
       "  </tbody>\n",
       "</table>\n",
       "</div>"
      ],
      "text/plain": [
       "             ds           y\n",
       "1379 2021-06-24  349.890015\n",
       "1380 2021-06-25  349.459991\n",
       "1381 2021-06-28  353.709991\n",
       "1382 2021-06-29  354.989990\n",
       "1383 2021-06-30  354.429993"
      ]
     },
     "execution_count": 10,
     "metadata": {},
     "output_type": "execute_result"
    }
   ],
   "source": [
    "df.reset_index(inplace=True)\r\n",
    "del df['Date']\r\n",
    "df.tail()"
   ]
  },
  {
   "cell_type": "code",
   "execution_count": 11,
   "metadata": {},
   "outputs": [
    {
     "data": {
      "text/plain": [
       "<fbprophet.forecaster.Prophet at 0x18921bcfa60>"
      ]
     },
     "execution_count": 11,
     "metadata": {},
     "output_type": "execute_result"
    }
   ],
   "source": [
    "model = Prophet(daily_seasonality=True)\r\n",
    "model.fit(df)"
   ]
  },
  {
   "cell_type": "code",
   "execution_count": 12,
   "metadata": {},
   "outputs": [
    {
     "data": {
      "text/html": [
       "<div>\n",
       "<style scoped>\n",
       "    .dataframe tbody tr th:only-of-type {\n",
       "        vertical-align: middle;\n",
       "    }\n",
       "\n",
       "    .dataframe tbody tr th {\n",
       "        vertical-align: top;\n",
       "    }\n",
       "\n",
       "    .dataframe thead th {\n",
       "        text-align: right;\n",
       "    }\n",
       "</style>\n",
       "<table border=\"1\" class=\"dataframe\">\n",
       "  <thead>\n",
       "    <tr style=\"text-align: right;\">\n",
       "      <th></th>\n",
       "      <th>ds</th>\n",
       "    </tr>\n",
       "  </thead>\n",
       "  <tbody>\n",
       "    <tr>\n",
       "      <th>1563</th>\n",
       "      <td>2021-12-27</td>\n",
       "    </tr>\n",
       "    <tr>\n",
       "      <th>1564</th>\n",
       "      <td>2021-12-28</td>\n",
       "    </tr>\n",
       "    <tr>\n",
       "      <th>1565</th>\n",
       "      <td>2021-12-29</td>\n",
       "    </tr>\n",
       "    <tr>\n",
       "      <th>1566</th>\n",
       "      <td>2021-12-30</td>\n",
       "    </tr>\n",
       "    <tr>\n",
       "      <th>1567</th>\n",
       "      <td>2021-12-31</td>\n",
       "    </tr>\n",
       "  </tbody>\n",
       "</table>\n",
       "</div>"
      ],
      "text/plain": [
       "             ds\n",
       "1563 2021-12-27\n",
       "1564 2021-12-28\n",
       "1565 2021-12-29\n",
       "1566 2021-12-30\n",
       "1567 2021-12-31"
      ]
     },
     "execution_count": 12,
     "metadata": {},
     "output_type": "execute_result"
    }
   ],
   "source": [
    "future = model.make_future_dataframe(184)\r\n",
    "future.tail()"
   ]
  },
  {
   "cell_type": "code",
   "execution_count": 13,
   "metadata": {},
   "outputs": [
    {
     "data": {
      "image/png": "[encoded data removed]",
      "text/plain": [
       "<Figure size 720x432 with 1 Axes>"
      ]
     },
     "metadata": {},
     "output_type": "display_data"
    }
   ],
   "source": [
    "forecast = model.predict(future)\r\n",
    "model.plot(forecast);"
   ]
  },
  {
   "cell_type": "code",
   "execution_count": 14,
   "metadata": {},
   "outputs": [
    {
     "data": {
      "text/html": [
       "<div>\n",
       "<style scoped>\n",
       "    .dataframe tbody tr th:only-of-type {\n",
       "        vertical-align: middle;\n",
       "    }\n",
       "\n",
       "    .dataframe tbody tr th {\n",
       "        vertical-align: top;\n",
       "    }\n",
       "\n",
       "    .dataframe thead th {\n",
       "        text-align: right;\n",
       "    }\n",
       "</style>\n",
       "<table border=\"1\" class=\"dataframe\">\n",
       "  <thead>\n",
       "    <tr style=\"text-align: right;\">\n",
       "      <th></th>\n",
       "      <th>ds</th>\n",
       "      <th>trend</th>\n",
       "      <th>yhat_lower</th>\n",
       "      <th>yhat_upper</th>\n",
       "      <th>trend_lower</th>\n",
       "      <th>trend_upper</th>\n",
       "      <th>additive_terms</th>\n",
       "      <th>additive_terms_lower</th>\n",
       "      <th>additive_terms_upper</th>\n",
       "      <th>daily</th>\n",
       "      <th>...</th>\n",
       "      <th>weekly</th>\n",
       "      <th>weekly_lower</th>\n",
       "      <th>weekly_upper</th>\n",
       "      <th>yearly</th>\n",
       "      <th>yearly_lower</th>\n",
       "      <th>yearly_upper</th>\n",
       "      <th>multiplicative_terms</th>\n",
       "      <th>multiplicative_terms_lower</th>\n",
       "      <th>multiplicative_terms_upper</th>\n",
       "      <th>yhat</th>\n",
       "    </tr>\n",
       "  </thead>\n",
       "  <tbody>\n",
       "    <tr>\n",
       "      <th>0</th>\n",
       "      <td>2015-12-31</td>\n",
       "      <td>108.240952</td>\n",
       "      <td>93.235235</td>\n",
       "      <td>107.942417</td>\n",
       "      <td>108.240952</td>\n",
       "      <td>108.240952</td>\n",
       "      <td>-7.572931</td>\n",
       "      <td>-7.572931</td>\n",
       "      <td>-7.572931</td>\n",
       "      <td>-10.017575</td>\n",
       "      <td>...</td>\n",
       "      <td>-0.435877</td>\n",
       "      <td>-0.435877</td>\n",
       "      <td>-0.435877</td>\n",
       "      <td>2.880521</td>\n",
       "      <td>2.880521</td>\n",
       "      <td>2.880521</td>\n",
       "      <td>0.0</td>\n",
       "      <td>0.0</td>\n",
       "      <td>0.0</td>\n",
       "      <td>100.668021</td>\n",
       "    </tr>\n",
       "    <tr>\n",
       "      <th>1</th>\n",
       "      <td>2016-01-04</td>\n",
       "      <td>108.692400</td>\n",
       "      <td>94.237514</td>\n",
       "      <td>109.278745</td>\n",
       "      <td>108.692400</td>\n",
       "      <td>108.692400</td>\n",
       "      <td>-7.337411</td>\n",
       "      <td>-7.337411</td>\n",
       "      <td>-7.337411</td>\n",
       "      <td>-10.017575</td>\n",
       "      <td>...</td>\n",
       "      <td>-0.645487</td>\n",
       "      <td>-0.645487</td>\n",
       "      <td>-0.645487</td>\n",
       "      <td>3.325650</td>\n",
       "      <td>3.325650</td>\n",
       "      <td>3.325650</td>\n",
       "      <td>0.0</td>\n",
       "      <td>0.0</td>\n",
       "      <td>0.0</td>\n",
       "      <td>101.354989</td>\n",
       "    </tr>\n",
       "    <tr>\n",
       "      <th>2</th>\n",
       "      <td>2016-01-05</td>\n",
       "      <td>108.805262</td>\n",
       "      <td>93.910380</td>\n",
       "      <td>109.480260</td>\n",
       "      <td>108.805262</td>\n",
       "      <td>108.805262</td>\n",
       "      <td>-6.954808</td>\n",
       "      <td>-6.954808</td>\n",
       "      <td>-6.954808</td>\n",
       "      <td>-10.017575</td>\n",
       "      <td>...</td>\n",
       "      <td>-0.389395</td>\n",
       "      <td>-0.389395</td>\n",
       "      <td>-0.389395</td>\n",
       "      <td>3.452161</td>\n",
       "      <td>3.452161</td>\n",
       "      <td>3.452161</td>\n",
       "      <td>0.0</td>\n",
       "      <td>0.0</td>\n",
       "      <td>0.0</td>\n",
       "      <td>101.850454</td>\n",
       "    </tr>\n",
       "    <tr>\n",
       "      <th>3</th>\n",
       "      <td>2016-01-06</td>\n",
       "      <td>108.918124</td>\n",
       "      <td>94.185265</td>\n",
       "      <td>110.002516</td>\n",
       "      <td>108.918124</td>\n",
       "      <td>108.918124</td>\n",
       "      <td>-6.861311</td>\n",
       "      <td>-6.861311</td>\n",
       "      <td>-6.861311</td>\n",
       "      <td>-10.017575</td>\n",
       "      <td>...</td>\n",
       "      <td>-0.427075</td>\n",
       "      <td>-0.427075</td>\n",
       "      <td>-0.427075</td>\n",
       "      <td>3.583339</td>\n",
       "      <td>3.583339</td>\n",
       "      <td>3.583339</td>\n",
       "      <td>0.0</td>\n",
       "      <td>0.0</td>\n",
       "      <td>0.0</td>\n",
       "      <td>102.056812</td>\n",
       "    </tr>\n",
       "    <tr>\n",
       "      <th>4</th>\n",
       "      <td>2016-01-07</td>\n",
       "      <td>109.030985</td>\n",
       "      <td>94.225424</td>\n",
       "      <td>109.955593</td>\n",
       "      <td>109.030985</td>\n",
       "      <td>109.030985</td>\n",
       "      <td>-6.735156</td>\n",
       "      <td>-6.735156</td>\n",
       "      <td>-6.735156</td>\n",
       "      <td>-10.017575</td>\n",
       "      <td>...</td>\n",
       "      <td>-0.435877</td>\n",
       "      <td>-0.435877</td>\n",
       "      <td>-0.435877</td>\n",
       "      <td>3.718296</td>\n",
       "      <td>3.718296</td>\n",
       "      <td>3.718296</td>\n",
       "      <td>0.0</td>\n",
       "      <td>0.0</td>\n",
       "      <td>0.0</td>\n",
       "      <td>102.295830</td>\n",
       "    </tr>\n",
       "  </tbody>\n",
       "</table>\n",
       "<p>5 rows × 22 columns</p>\n",
       "</div>"
      ],
      "text/plain": [
       "          ds       trend  yhat_lower  yhat_upper  trend_lower  trend_upper  \\\n",
       "0 2015-12-31  108.240952   93.235235  107.942417   108.240952   108.240952   \n",
       "1 2016-01-04  108.692400   94.237514  109.278745   108.692400   108.692400   \n",
       "2 2016-01-05  108.805262   93.910380  109.480260   108.805262   108.805262   \n",
       "3 2016-01-06  108.918124   94.185265  110.002516   108.918124   108.918124   \n",
       "4 2016-01-07  109.030985   94.225424  109.955593   109.030985   109.030985   \n",
       "\n",
       "   additive_terms  additive_terms_lower  additive_terms_upper      daily  ...  \\\n",
       "0       -7.572931             -7.572931             -7.572931 -10.017575  ...   \n",
       "1       -7.337411             -7.337411             -7.337411 -10.017575  ...   \n",
       "2       -6.954808             -6.954808             -6.954808 -10.017575  ...   \n",
       "3       -6.861311             -6.861311             -6.861311 -10.017575  ...   \n",
       "4       -6.735156             -6.735156             -6.735156 -10.017575  ...   \n",
       "\n",
       "     weekly  weekly_lower  weekly_upper    yearly  yearly_lower  yearly_upper  \\\n",
       "0 -0.435877     -0.435877     -0.435877  2.880521      2.880521      2.880521   \n",
       "1 -0.645487     -0.645487     -0.645487  3.325650      3.325650      3.325650   \n",
       "2 -0.389395     -0.389395     -0.389395  3.452161      3.452161      3.452161   \n",
       "3 -0.427075     -0.427075     -0.427075  3.583339      3.583339      3.583339   \n",
       "4 -0.435877     -0.435877     -0.435877  3.718296      3.718296      3.718296   \n",
       "\n",
       "   multiplicative_terms  multiplicative_terms_lower  \\\n",
       "0                   0.0                         0.0   \n",
       "1                   0.0                         0.0   \n",
       "2                   0.0                         0.0   \n",
       "3                   0.0                         0.0   \n",
       "4                   0.0                         0.0   \n",
       "\n",
       "   multiplicative_terms_upper        yhat  \n",
       "0                         0.0  100.668021  \n",
       "1                         0.0  101.354989  \n",
       "2                         0.0  101.850454  \n",
       "3                         0.0  102.056812  \n",
       "4                         0.0  102.295830  \n",
       "\n",
       "[5 rows x 22 columns]"
      ]
     },
     "execution_count": 14,
     "metadata": {},
     "output_type": "execute_result"
    }
   ],
   "source": [
    "forecast.head()"
   ]
  },
  {
   "cell_type": "code",
   "execution_count": 15,
   "metadata": {},
   "outputs": [
    {
     "data": {
      "image/png": "[encoded data removed]",
      "text/plain": [
       "<Figure size 1152x576 with 1 Axes>"
      ]
     },
     "metadata": {
      "needs_background": "light"
     },
     "output_type": "display_data"
    }
   ],
   "source": [
    "plt.figure(figsize=(16,8))\r\n",
    "plt.plot(qqq.index, qqq.Close, label='QQQ real')\r\n",
    "plt.plot(forecast.ds, forecast.yhat, label='forecast')\r\n",
    "plt.grid()\r\n",
    "plt.legend()\r\n",
    "plt.show()"
   ]
  },
  {
   "cell_type": "code",
   "execution_count": null,
   "metadata": {},
   "outputs": [],
   "source": []
  }
 ],
 "metadata": {
  "interpreter": {
   "hash": "8c1eae21719a0790335dcb83aad72b63b602cfe5cdb2bda0f60bc11d4f154e4b"
  },
  "kernelspec": {
   "display_name": "Python 3.8.5 64-bit ('base': conda)",
   "name": "python3"
  },
  "language_info": {
   "name": "python",
   "version": ""
  },
  "orig_nbformat": 4
 },
 "nbformat": 4,
 "nbformat_minor": 2
}